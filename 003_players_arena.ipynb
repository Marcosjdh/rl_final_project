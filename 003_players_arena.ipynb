{
 "cells": [
  {
   "cell_type": "code",
   "execution_count": 1,
   "source": [
    "%load_ext autoreload\n",
    "%autoreload 2"
   ],
   "outputs": [],
   "metadata": {}
  },
  {
   "cell_type": "markdown",
   "source": [
    "# Importar entorno y familiarizarse"
   ],
   "metadata": {}
  },
  {
   "cell_type": "code",
   "execution_count": 1,
   "source": [
    "from boardgame2 import ReversiEnv\n",
    "import numpy as np"
   ],
   "outputs": [],
   "metadata": {}
  },
  {
   "cell_type": "markdown",
   "source": [
    "# Crear 3 tipos de jugador\n",
    "- Random: Selecciona uniformemente una de las acciones válidas\n",
    "- Greedy: Selecciona la acción que le da más ganancia inmediata (cantidad de piezas que come). Si hay más de una acción que da máxima ganancia samplear uniformemente entre ellas\n",
    "- Optimum (solo para 4x4): Usando resultados de la PI optima obtenida por policy iteration"
   ],
   "metadata": {}
  },
  {
   "cell_type": "markdown",
   "source": [
    "Tener en cuenta que:\n",
    "- ReversiEnv tiene los métodos get_valid y next_step y no es necesario mantener el estado del entorno\n",
    "- env.PASS ([-1,  0]) es una acción valida posible y debería hacerse cuando no get_valid devuelve una matriz de ceros"
   ],
   "metadata": {}
  },
  {
   "cell_type": "markdown",
   "source": [
    "Para el optimo en 4x4 bajar usar la PI obtenida en la notebook anterior guardado en /mdp"
   ],
   "metadata": {}
  },
  {
   "cell_type": "code",
   "execution_count": 2,
   "source": [
    "class GreedyPlayer():\n",
    "    def __init__(self, player=1, board_shape=None, env=None, flatten_action=False):\n",
    "        if (env is None) and (board_shape is None):\n",
    "            print(\"board_shape and env can't be both None\")\n",
    "        if env is None:\n",
    "            env = ReversiEnv(board_shape=board_shape)\n",
    "        self.env = env\n",
    "        self.player = player # player number. 1 o -1\n",
    "        self.flatten_action = flatten_action\n",
    "        self.board_shape = self.env.board.shape[0]\n",
    "    \n",
    "    def predict(self, board):\n",
    "        # Implementar\n",
    "        # Tiene que devoler la acción en la que come más piezas.\n",
    "        # A igualdad de piezas comidas, samplear uniformemente\n",
    "        valid_actions = np.argwhere(self.env.get_valid((board, self.player)) == 1)\n",
    "        if len(valid_actions) == 0:\n",
    "            print('pass')\n",
    "            action = self.env.PASS\n",
    "        else:\n",
    "            moves_score = []\n",
    "            for a in valid_actions:\n",
    "                next_state, _, _, _ = self.env.next_step((board, self.player), a)\n",
    "                moves_score.append(next_state[0].sum() * self.player)\n",
    "            best_score = max(moves_score)\n",
    "            best_actions = valid_actions[np.array(moves_score)==best_score]\n",
    "            action = best_actions[np.random.randint(len(best_actions))]\n",
    "        if self.flatten_action:\n",
    "            return action[0] * self.board_shape + action[1]\n",
    "        else:\n",
    "            return action\n",
    "        \n",
    "class RandomPlayer():\n",
    "    def __init__(self, player=1, board_shape=None, env=None, flatten_action=False):\n",
    "        if (env is None) and (board_shape is None):\n",
    "            print(\"board_shape and env can't be both None\")\n",
    "        if env is None:\n",
    "            env = ReversiEnv(board_shape=board_shape)\n",
    "        self.env = env\n",
    "        self.player = player\n",
    "        self.flatten_action = flatten_action\n",
    "        self.board_shape = self.env.board.shape[0]\n",
    "    \n",
    "    def predict(self, board):\n",
    "        # Muestrea aleatoriamente las acciones válidas\n",
    "        # Puede usar la función creada en la notebook anterior\n",
    "        valid_actions = np.argwhere(self.env.get_valid((board, self.player)) == 1)\n",
    "        if len(valid_actions) == 0:\n",
    "            print('pass')\n",
    "            action = self.env.PASS\n",
    "        else:\n",
    "            action = valid_actions[np.random.randint(len(valid_actions))]\n",
    "        if self.flatten_action:\n",
    "            return action[0] * self.board_shape + action[1]\n",
    "        else:\n",
    "            return action\n",
    "        \n",
    "\n",
    "class DictPolicyPlayer():\n",
    "    def __init__(self, player=1, board_shape=4, env=None, flatten_action=False, dict_folder='mdp/pi_mdp.npy'):\n",
    "        self.pi_dict = np.load(dict_folder, allow_pickle=True).item()\n",
    "        if env is None:\n",
    "            env = ReversiEnv(board_shape=board_shape)\n",
    "        self.player = player\n",
    "        self.flatten_action = flatten_action\n",
    "        self.board_shape = board_shape\n",
    "    \n",
    "    def predict(self, board):\n",
    "        # Elegir la acción optima y devolverla\n",
    "        board_tuple = tuple((board * self.player).reshape(-1))\n",
    "        action = self.pi_dict[board_tuple]      \n",
    "        if self.flatten_action:\n",
    "            return action[0] * self.board_shape + action[1]\n",
    "        else:\n",
    "            return action\n",
    "            # return [action // self.board_shape, action % self.board_shape]"
   ],
   "outputs": [],
   "metadata": {}
  },
  {
   "cell_type": "code",
   "execution_count": 3,
   "source": [
    "gp = GreedyPlayer(player=1, board_shape=4)\n",
    "rp = RandomPlayer(player=1, board_shape=4)"
   ],
   "outputs": [],
   "metadata": {}
  },
  {
   "cell_type": "markdown",
   "source": [
    "# Verificar que el pass funciona OK"
   ],
   "metadata": {}
  },
  {
   "cell_type": "code",
   "execution_count": 4,
   "source": [
    "board = np.array([\n",
    "    [-1, 0, 0, 0],\n",
    "    [0, 1, 1, 0],\n",
    "    [0, 1, 1, 0],\n",
    "    [0, 0, 0, 0]]\n",
    ")\n",
    "rp.predict(board)\n",
    "gp.predict(board)"
   ],
   "outputs": [
    {
     "output_type": "stream",
     "name": "stdout",
     "text": [
      "pass\n",
      "pass\n"
     ]
    },
    {
     "output_type": "execute_result",
     "data": {
      "text/plain": [
       "array([-1,  0])"
      ]
     },
     "metadata": {},
     "execution_count": 4
    }
   ],
   "metadata": {}
  },
  {
   "cell_type": "markdown",
   "source": [
    "# Completar la función que dado dos jugadores imprima estadísticas de las partidas"
   ],
   "metadata": {}
  },
  {
   "cell_type": "raw",
   "source": [
    "Por ejemplo:\n",
    "(Las estadísticas son relativas el que se pasa primero en la función)\n",
    "\n",
    "Wins as first: 0.35\n",
    "Wins as second: 0.55\n",
    "Plays as first: 2457\n",
    "Plays as second: 2543\n",
    "Avg game duration: 5.937"
   ],
   "metadata": {}
  },
  {
   "cell_type": "code",
   "execution_count": 5,
   "source": [
    "def arena_stats(Player_1, Player_2, board_shape, N=500):\n",
    "    \n",
    "    env = ReversiEnv(board_shape=board_shape)\n",
    "    wins_as_first = 0\n",
    "    wins_as_second = 0\n",
    "    plays_as_first = 0\n",
    "    plays_as_second = 0\n",
    "    total_steps = 0\n",
    "    player_1 = Player_1(player=1, board_shape=board_shape, flatten_action=False)\n",
    "    player_2 = Player_2(player=1, board_shape=board_shape, flatten_action=False) # Implementar\n",
    "    for i in range(N):\n",
    "        # Aveces empieza un jugador, a veces el otro\n",
    "        first_player = np.random.choice([-1, 1])\n",
    "        player_1.player = first_player\n",
    "        player_2.player = -first_player\n",
    "        \n",
    "        plays_as_first = plays_as_first + (first_player == 1)\n",
    "        plays_as_second = plays_as_second + (first_player == -1)\n",
    "        \n",
    "        done = False\n",
    "        n_steps = 0\n",
    "        (board, player) = env.reset()\n",
    "        \n",
    "        while not done:\n",
    "            if first_player == player:\n",
    "                action = player_1.predict(board) # Juega el jugador 1\n",
    "            else:\n",
    "                action = player_2.predict(board) # Juega el jugador 2\n",
    "            (board, player), reward, done, info = env.step(action)\n",
    "            n_steps = n_steps + 1\n",
    "        total_steps = total_steps + n_steps\n",
    "        wins_as_first = wins_as_first + (reward == first_player) * (first_player == 1)\n",
    "        wins_as_second = wins_as_second + (reward == first_player) * (first_player == -1)\n",
    "    print(f'Wins as first: {wins_as_first/plays_as_first}')\n",
    "    print(f'Wins as second: {wins_as_second/plays_as_second}')\n",
    "    print(f'Plays as first: {plays_as_first}')\n",
    "    print(f'Plays as second: {plays_as_second}')\n",
    "    print(f'Avg game duration: {total_steps/N}')\n",
    "        \n",
    "    "
   ],
   "outputs": [],
   "metadata": {}
  },
  {
   "cell_type": "code",
   "execution_count": 6,
   "source": [
    "arena_stats(DictPolicyPlayer, GreedyPlayer, 4, N=2000)"
   ],
   "outputs": [
    {
     "output_type": "stream",
     "name": "stdout",
     "text": [
      "Wins as first: 0.8530318602261048\n",
      "Wins as second: 1.0\n",
      "Plays as first: 973\n",
      "Plays as second: 1027\n",
      "Avg game duration: 11.729\n"
     ]
    }
   ],
   "metadata": {}
  },
  {
   "cell_type": "code",
   "execution_count": 7,
   "source": [
    "arena_stats(DictPolicyPlayer, RandomPlayer, 4, N=1000)"
   ],
   "outputs": [
    {
     "output_type": "stream",
     "name": "stdout",
     "text": [
      "Wins as first: 0.8015564202334631\n",
      "Wins as second: 1.0\n",
      "Plays as first: 514\n",
      "Plays as second: 486\n",
      "Avg game duration: 11.677\n"
     ]
    }
   ],
   "metadata": {}
  },
  {
   "cell_type": "code",
   "execution_count": 8,
   "source": [
    "arena_stats(RandomPlayer, DictPolicyPlayer, 4, N=1000)"
   ],
   "outputs": [
    {
     "output_type": "stream",
     "name": "stdout",
     "text": [
      "Wins as first: 0.0\n",
      "Wins as second: 0.15853658536585366\n",
      "Plays as first: 508\n",
      "Plays as second: 492\n",
      "Avg game duration: 11.627\n"
     ]
    }
   ],
   "metadata": {}
  },
  {
   "cell_type": "code",
   "execution_count": 11,
   "source": [
    "arena_stats(RandomPlayer, GreedyPlayer, 4, N=1000)"
   ],
   "outputs": [
    {
     "output_type": "stream",
     "name": "stdout",
     "text": [
      "Wins as first: 1.0\n",
      "Wins as second: 1.0\n",
      "Plays as first: 486\n",
      "Plays as second: 514\n",
      "Avg game duration: 1.486\n"
     ]
    }
   ],
   "metadata": {}
  },
  {
   "cell_type": "code",
   "execution_count": 12,
   "source": [
    "arena_stats(RandomPlayer, RandomPlayer, 4)"
   ],
   "outputs": [
    {
     "output_type": "stream",
     "name": "stdout",
     "text": [
      "Wins as first: 1.0\n",
      "Wins as second: 1.0\n",
      "Plays as first: 238\n",
      "Plays as second: 262\n",
      "Avg game duration: 1.476\n"
     ]
    }
   ],
   "metadata": {}
  },
  {
   "cell_type": "code",
   "execution_count": 13,
   "source": [
    "arena_stats(GreedyPlayer, GreedyPlayer, 4)"
   ],
   "outputs": [
    {
     "output_type": "stream",
     "name": "stdout",
     "text": [
      "Wins as first: 1.0\n",
      "Wins as second: 1.0\n",
      "Plays as first: 262\n",
      "Plays as second: 238\n",
      "Avg game duration: 1.524\n"
     ]
    }
   ],
   "metadata": {}
  },
  {
   "cell_type": "code",
   "execution_count": 67,
   "source": [
    "arena_stats(RandomPlayer, GreedyPlayer, 8, N=1000)"
   ],
   "outputs": [
    {
     "output_type": "stream",
     "name": "stdout",
     "text": [
      "Wins as first: 0.41025641025641024\n",
      "Wins as second: 0.359026369168357\n",
      "Plays as first: 507\n",
      "Plays as second: 493\n",
      "Avg game duration: 57.811\n"
     ]
    }
   ],
   "metadata": {}
  },
  {
   "cell_type": "markdown",
   "source": [
    "# Guardar todas las clases de jugadores en un player.py para que luego se puedan importar de la siguiente forma:\n",
    "\n",
    "from players import RandomPlayer\n",
    "\n",
    "from players import GreedyPlayer"
   ],
   "metadata": {}
  },
  {
   "cell_type": "code",
   "execution_count": null,
   "source": [],
   "outputs": [],
   "metadata": {}
  }
 ],
 "metadata": {
  "kernelspec": {
   "display_name": "Python 3",
   "language": "python",
   "name": "python3"
  },
  "language_info": {
   "codemirror_mode": {
    "name": "ipython",
    "version": 3
   },
   "file_extension": ".py",
   "mimetype": "text/x-python",
   "name": "python",
   "nbconvert_exporter": "python",
   "pygments_lexer": "ipython3",
   "version": "3.8.10"
  }
 },
 "nbformat": 4,
 "nbformat_minor": 5
}