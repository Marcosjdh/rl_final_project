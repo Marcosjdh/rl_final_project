{
 "cells": [
  {
   "cell_type": "code",
   "execution_count": 1,
   "source": [
    "%load_ext autoreload\n",
    "%autoreload 2\n",
    "%load_ext tensorboard"
   ],
   "outputs": [],
   "metadata": {}
  },
  {
   "cell_type": "code",
   "execution_count": 1,
   "source": [
    "from multi_env import make_reversi_vec_env, SelfPlayEnv\n",
    "import torch as th\n",
    "from players import RandomPlayer\n",
    "from stable_baselines3 import PPO\n",
    "from stable_baselines3.common.policies import ActorCriticPolicy\n",
    "import numpy as np"
   ],
   "outputs": [],
   "metadata": {}
  },
  {
   "cell_type": "code",
   "execution_count": 2,
   "source": [
    "board_shape = 8\n",
    "n_envs = 10\n",
    "env = make_reversi_vec_env(\n",
    "    SelfPlayEnv, n_envs=n_envs,\n",
    "    env_kwargs={\n",
    "        'board_shape': board_shape,\n",
    "        'LocalPlayer': RandomPlayer\n",
    "    }\n",
    ")"
   ],
   "outputs": [],
   "metadata": {}
  },
  {
   "cell_type": "markdown",
   "source": [
    "# Modificación de librería para que haga argmax solo sobre las válidas"
   ],
   "metadata": {}
  },
  {
   "cell_type": "code",
   "execution_count": 3,
   "source": [
    "model = PPO(\n",
    "    ActorCriticPolicy,\n",
    "    env,\n",
    "    verbose=0,\n",
    ")"
   ],
   "outputs": [],
   "metadata": {}
  },
  {
   "cell_type": "code",
   "execution_count": 4,
   "source": [
    "model.predict(env.reset())"
   ],
   "outputs": [
    {
     "output_type": "execute_result",
     "data": {
      "text/plain": [
       "(array([20, 39, 18,  7, 30, 61, 54, 33, 61, 25]), None)"
      ]
     },
     "metadata": {},
     "execution_count": 4
    }
   ],
   "metadata": {}
  },
  {
   "cell_type": "markdown",
   "source": [
    "# Custom ActorCriticPolicy \n",
    "\n",
    "https://github.com/DLR-RM/stable-baselines3/blob/master/stable_baselines3/common/policies.py"
   ],
   "metadata": {}
  },
  {
   "cell_type": "code",
   "execution_count": 5,
   "source": [
    "from boardgame2 import ReversiEnv"
   ],
   "outputs": [],
   "metadata": {}
  },
  {
   "cell_type": "code",
   "execution_count": 6,
   "source": [
    "env_not_vect = ReversiEnv(board_shape)"
   ],
   "outputs": [],
   "metadata": {}
  },
  {
   "cell_type": "code",
   "execution_count": 7,
   "source": [
    "# env_not_vect.get_valid((state, player))"
   ],
   "outputs": [],
   "metadata": {}
  },
  {
   "cell_type": "code",
   "execution_count": 8,
   "source": [
    "def get_actions_mask(state):\n",
    "    player = 1\n",
    "    valid_actions = env_not_vect.get_valid((state, player))\n",
    "    return valid_actions.reshape(-1)  \n"
   ],
   "outputs": [],
   "metadata": {}
  },
  {
   "cell_type": "code",
   "execution_count": 9,
   "source": [
    "get_actions_mask(env.reset()[0][0])"
   ],
   "outputs": [
    {
     "output_type": "execute_result",
     "data": {
      "text/plain": [
       "array([0, 0, 0, 0, 0, 0, 0, 0, 0, 0, 0, 0, 0, 0, 0, 0, 0, 0, 0, 0, 0, 0,\n",
       "       0, 0, 0, 0, 1, 0, 0, 0, 0, 0, 0, 0, 0, 0, 0, 0, 0, 0, 0, 0, 1, 0,\n",
       "       1, 0, 0, 0, 0, 0, 0, 0, 0, 0, 0, 0, 0, 0, 0, 0, 0, 0, 0, 0],\n",
       "      dtype=int8)"
      ]
     },
     "metadata": {},
     "execution_count": 9
    }
   ],
   "metadata": {}
  },
  {
   "cell_type": "code",
   "execution_count": 11,
   "source": [
    "class CustomActorCriticPolicy(ActorCriticPolicy):\n",
    "    def __init__(\n",
    "        self,\n",
    "        *args, # Todos los argumentos posicionales de ActorCriticPolicy\n",
    "        actions_mask_func=None, # El nuevo argumento\n",
    "        **kwargs # Todos los argumentos opcionales de ActorCriticPolicy\n",
    "    ):\n",
    "        super(CustomActorCriticPolicy, self).__init__(\n",
    "            *args,\n",
    "            **kwargs\n",
    "        )\n",
    "        if actions_mask_func:\n",
    "            self.get_actions_mask = actions_mask_func \n",
    "    \n",
    "    def sample_masked_actions(self, obs, distribution, deterministic=False, return_distribution=False):\n",
    "        # Dada las obs y distribuciones luego de evaluar la red neuronal, samplear solo las acciones válidas\n",
    "        # Las obs se usan para que con self.get_actions_mask se obtengan las acciones válidas\n",
    "        # las distribuciones son el resultado de evaluar la red neuronal y van a dar acciones no validas\n",
    "        # Generar una nueva distribución (del lado de los logits preferentemente) donde las acciones no válidas\n",
    "        # tengan probabildad nula de ser muestreadas\n",
    "        # Luego se modifican abajo los métodos\n",
    "        # _predict, forward y evaluate_actions\n",
    "        # Si tiene el flag de return_distribution en true devuelve la distribución nueva\n",
    "        # Caso contrario devuelve las acciones\n",
    "        # Para tener en cuenta, obs tiene dimensión [batch_size, channels, H, W]\n",
    "        # Recomendamos poner un print(obs.shape)\n",
    "        # y correr:\n",
    "        # obs = env.reset()\n",
    "        # actions, _ = model.predict(obs)\n",
    "        # Para sacarse las dudas\n",
    "        def get_mask(obs):\n",
    "            masks = np.zeros((len(obs), obs.shape[-1] * obs.shape[-2]))\n",
    "            for i, board in enumerate(obs):\n",
    "                board = board[0].cpu().numpy()\n",
    "                masks[i] = 1 - self.get_actions_mask(board)\n",
    "            return th.from_numpy(masks).to(self.device)\n",
    "            \n",
    "        masks = get_mask(obs)\n",
    "        masks[masks == 1] = -1e6 #np.inf\n",
    "        masked_logits = distribution.logits + masks\n",
    "        if return_distribution:\n",
    "            return th.distributions.Categorical(logits=masked_logits)\n",
    "        if deterministic:\n",
    "            return th.argmax(masked_logits, axis=1)\n",
    "        return th.distributions.Categorical(logits=masked_logits).sample()\n",
    "\n",
    "    def _predict(self, observation, deterministic=False):\n",
    "        \"\"\"\n",
    "        Get the action according to the policy for a given observation.\n",
    "        :param observation:\n",
    "        :param deterministic: Whether to use stochastic or deterministic actions\n",
    "        :return: Taken action according to the policy\n",
    "        \"\"\"\n",
    "        latent_pi, _, latent_sde = self._get_latent(observation)\n",
    "        distribution = self._get_action_dist_from_latent(latent_pi, latent_sde)\n",
    "        \n",
    "        if self.get_actions_mask:\n",
    "            actions = self.sample_masked_actions(observation, distribution.distribution, deterministic=deterministic)\n",
    "        else:\n",
    "            actions = distribution.get_actions(deterministic=deterministic)\n",
    "        \n",
    "        return actions\n",
    "    \n",
    "    def forward(self, obs: th.Tensor, deterministic: bool = False):\n",
    "        \"\"\"\n",
    "        Forward pass in all the networks (actor and critic)\n",
    "        :param obs: Observation\n",
    "        :param deterministic: Whether to sample or use deterministic actions\n",
    "        :return: action, value and log probability of the action\n",
    "        \"\"\"\n",
    "        latent_pi, latent_vf, latent_sde = self._get_latent(obs)\n",
    "        # Evaluate the values for the given observations\n",
    "        values = self.value_net(latent_vf)\n",
    "        distribution = self._get_action_dist_from_latent(latent_pi, latent_sde=latent_sde)\n",
    "        distrib = self.sample_masked_actions(obs, distribution.distribution, return_distribution=True)\n",
    "        \n",
    "        \n",
    "        if self.get_actions_mask:\n",
    "            actions = self.sample_masked_actions(obs, distribution.distribution, deterministic=deterministic)\n",
    "        else:\n",
    "            actions = distribution.get_actions(deterministic=deterministic)\n",
    "\n",
    "        # log_prob = distribution.log_prob(actions)\n",
    "        log_prob = distrib.log_prob(actions)\n",
    "        return actions, values, log_prob\n",
    "    \n",
    "    def evaluate_actions(self, obs: th.Tensor, actions: th.Tensor):\n",
    "        \"\"\"\n",
    "        Evaluate actions according to the current policy,\n",
    "        given the observations.\n",
    "        :param obs:\n",
    "        :param actions:\n",
    "        :return: estimated value, log likelihood of taking those actions\n",
    "            and entropy of the action distribution.\n",
    "        \"\"\"\n",
    "        latent_pi, latent_vf, latent_sde = self._get_latent(obs)\n",
    "        distribution = self._get_action_dist_from_latent(latent_pi, latent_sde)\n",
    "        distrib = self.sample_masked_actions(obs, distribution.distribution, return_distribution=True)\n",
    "\n",
    "        log_prob = distrib.log_prob(actions)\n",
    "        values = self.value_net(latent_vf)\n",
    "        return values, log_prob, distrib.entropy()"
   ],
   "outputs": [],
   "metadata": {}
  },
  {
   "cell_type": "code",
   "execution_count": 12,
   "source": [
    "model = PPO(\n",
    "    CustomActorCriticPolicy,\n",
    "    env,\n",
    "    verbose=0,\n",
    "    policy_kwargs = {'actions_mask_func': get_actions_mask}\n",
    ")\n"
   ],
   "outputs": [],
   "metadata": {}
  },
  {
   "cell_type": "code",
   "execution_count": 13,
   "source": [
    "# Testeo de predict\n",
    "model.policy.get_actions_mask(env.reset()[0][0])"
   ],
   "outputs": [
    {
     "output_type": "execute_result",
     "data": {
      "text/plain": [
       "array([0, 0, 0, 0, 0, 0, 0, 0, 0, 0, 0, 0, 0, 0, 0, 0, 0, 0, 0, 0, 1, 0,\n",
       "       0, 0, 0, 0, 0, 0, 0, 1, 0, 0, 0, 0, 1, 0, 0, 0, 0, 0, 0, 0, 0, 1,\n",
       "       0, 0, 0, 0, 0, 0, 0, 0, 0, 0, 0, 0, 0, 0, 0, 0, 0, 0, 0, 0],\n",
       "      dtype=int8)"
      ]
     },
     "metadata": {},
     "execution_count": 13
    }
   ],
   "metadata": {}
  },
  {
   "cell_type": "code",
   "execution_count": 14,
   "source": [
    "obs = env.reset()\n",
    "actions, _ = model.predict(obs)"
   ],
   "outputs": [],
   "metadata": {}
  },
  {
   "cell_type": "code",
   "execution_count": 15,
   "source": [
    "# Verificar que las acciones son válidas\n",
    "actions"
   ],
   "outputs": [
    {
     "output_type": "execute_result",
     "data": {
      "text/plain": [
       "array([21, 34, 20, 19, 26, 37, 29, 34, 37, 26])"
      ]
     },
     "metadata": {},
     "execution_count": 15
    }
   ],
   "metadata": {}
  },
  {
   "cell_type": "code",
   "execution_count": 16,
   "source": [
    "# Testeo de forward\n",
    "model.policy(th.from_numpy(obs).to(model.device))"
   ],
   "outputs": [
    {
     "output_type": "execute_result",
     "data": {
      "text/plain": [
       "(tensor([19, 43, 29, 19, 44, 19, 29, 20, 21, 44]),\n",
       " tensor([[ 0.1738],\n",
       "         [-0.1327],\n",
       "         [-0.1327],\n",
       "         [ 0.2366],\n",
       "         [-0.5164],\n",
       "         [ 0.2366],\n",
       "         [-0.1327],\n",
       "         [-0.1327],\n",
       "         [ 0.2366],\n",
       "         [-0.3896]], grad_fn=<AddmmBackward>),\n",
       " tensor([-1.0978, -1.3846, -1.3869, -1.0972, -1.1016, -1.0972, -1.3869, -1.3900,\n",
       "         -1.1056, -1.0984], dtype=torch.float64, grad_fn=<SqueezeBackward1>))"
      ]
     },
     "metadata": {},
     "execution_count": 16
    }
   ],
   "metadata": {}
  },
  {
   "cell_type": "markdown",
   "source": [
    "# Corremos PPO"
   ],
   "metadata": {}
  },
  {
   "cell_type": "code",
   "execution_count": 17,
   "source": [
    "board_shape = 8\n",
    "n_envs = 6\n",
    "gamma = 0.99\n",
    "ent_coef = 0.0\n",
    "gae_lambda = 0.95\n",
    "n_epochs = 10 # 10 en la anterior"
   ],
   "outputs": [],
   "metadata": {}
  },
  {
   "cell_type": "code",
   "execution_count": 18,
   "source": [
    "prefix = 'Reversi_PPO'\n",
    "suffix = 'masked_actions'\n",
    "model_name = f'{prefix}_{board_shape}by{board_shape}_{gamma}_{gae_lambda}_{ent_coef}_{n_epochs}_{n_envs}_{suffix}'\n",
    "best_model_save_path = f'./models/{model_name}'\n",
    "print(model_name)\n",
    "print(best_model_save_path)"
   ],
   "outputs": [
    {
     "output_type": "stream",
     "name": "stdout",
     "text": [
      "Reversi_PPO_8by8_0.99_0.95_0.0_10_6_masked_actions\n",
      "./models/Reversi_PPO_8by8_0.99_0.95_0.0_10_6_masked_actions\n"
     ]
    }
   ],
   "metadata": {}
  },
  {
   "cell_type": "code",
   "execution_count": 19,
   "source": [
    "model = PPO(\n",
    "    CustomActorCriticPolicy,\n",
    "    env,\n",
    "    verbose=0,\n",
    "    tensorboard_log='tensorboard_log',\n",
    "    gamma=gamma,\n",
    "    gae_lambda=gae_lambda,\n",
    "    ent_coef=ent_coef,\n",
    "    n_epochs=n_epochs,\n",
    "    policy_kwargs = {'actions_mask_func': get_actions_mask}\n",
    ")"
   ],
   "outputs": [],
   "metadata": {}
  },
  {
   "cell_type": "code",
   "execution_count": 20,
   "source": [
    "from stable_baselines3.common.callbacks import EvalCallback"
   ],
   "outputs": [],
   "metadata": {}
  },
  {
   "cell_type": "code",
   "execution_count": 21,
   "source": [
    "# El entorno de evaluación no corre en paralelo por eso uno solo\n",
    "eval_env = make_reversi_vec_env(\n",
    "    SelfPlayEnv, n_envs=1,\n",
    "    env_kwargs={\n",
    "        'board_shape': board_shape,\n",
    "        'LocalPlayer': RandomPlayer\n",
    "    }\n",
    ")"
   ],
   "outputs": [],
   "metadata": {}
  },
  {
   "cell_type": "code",
   "execution_count": 22,
   "source": [
    "eval_callback = EvalCallback(\n",
    "    eval_env = eval_env,\n",
    "    eval_freq=1_000,\n",
    "    n_eval_episodes=500,\n",
    "    deterministic=True,\n",
    "    verbose=1,\n",
    "    best_model_save_path=best_model_save_path,\n",
    ") "
   ],
   "outputs": [],
   "metadata": {}
  },
  {
   "cell_type": "code",
   "execution_count": 23,
   "source": [
    "model.learn(total_timesteps=int(1e10), callback=[eval_callback])"
   ],
   "outputs": [
    {
     "output_type": "stream",
     "name": "stdout",
     "text": [
      "Eval num_timesteps=10000, episode_reward=-0.05 +/- 0.97\n",
      "Episode length: 29.95 +/- 0.64\n",
      "New best mean reward!\n",
      "Eval num_timesteps=20000, episode_reward=-0.00 +/- 0.98\n",
      "Episode length: 29.97 +/- 0.56\n",
      "New best mean reward!\n",
      "Eval num_timesteps=30000, episode_reward=0.15 +/- 0.98\n",
      "Episode length: 30.05 +/- 0.63\n",
      "New best mean reward!\n",
      "Eval num_timesteps=40000, episode_reward=0.12 +/- 0.97\n",
      "Episode length: 30.03 +/- 0.54\n",
      "Eval num_timesteps=50000, episode_reward=0.30 +/- 0.93\n",
      "Episode length: 29.97 +/- 1.03\n",
      "New best mean reward!\n",
      "Eval num_timesteps=60000, episode_reward=0.40 +/- 0.90\n",
      "Episode length: 30.05 +/- 0.61\n",
      "New best mean reward!\n",
      "Eval num_timesteps=70000, episode_reward=0.48 +/- 0.85\n",
      "Episode length: 30.10 +/- 0.55\n",
      "New best mean reward!\n",
      "Eval num_timesteps=80000, episode_reward=0.38 +/- 0.91\n",
      "Episode length: 30.05 +/- 0.56\n",
      "Eval num_timesteps=90000, episode_reward=0.53 +/- 0.84\n",
      "Episode length: 30.01 +/- 0.56\n",
      "New best mean reward!\n",
      "Eval num_timesteps=100000, episode_reward=0.57 +/- 0.81\n",
      "Episode length: 30.05 +/- 0.55\n",
      "New best mean reward!\n",
      "Eval num_timesteps=110000, episode_reward=0.66 +/- 0.74\n",
      "Episode length: 30.08 +/- 0.57\n",
      "New best mean reward!\n",
      "Eval num_timesteps=120000, episode_reward=0.66 +/- 0.73\n",
      "Episode length: 30.10 +/- 0.55\n",
      "New best mean reward!\n",
      "Eval num_timesteps=130000, episode_reward=0.69 +/- 0.71\n",
      "Episode length: 30.05 +/- 1.15\n",
      "New best mean reward!\n",
      "Eval num_timesteps=140000, episode_reward=0.69 +/- 0.70\n",
      "Episode length: 30.12 +/- 0.55\n",
      "Eval num_timesteps=150000, episode_reward=0.67 +/- 0.73\n",
      "Episode length: 30.07 +/- 0.56\n",
      "Eval num_timesteps=160000, episode_reward=0.71 +/- 0.69\n",
      "Episode length: 30.11 +/- 0.57\n",
      "New best mean reward!\n",
      "Eval num_timesteps=170000, episode_reward=0.68 +/- 0.72\n",
      "Episode length: 30.09 +/- 0.56\n",
      "Eval num_timesteps=180000, episode_reward=0.66 +/- 0.74\n",
      "Episode length: 30.06 +/- 1.07\n",
      "Eval num_timesteps=190000, episode_reward=0.74 +/- 0.64\n",
      "Episode length: 30.16 +/- 0.58\n",
      "New best mean reward!\n",
      "Eval num_timesteps=200000, episode_reward=0.66 +/- 0.72\n",
      "Episode length: 30.11 +/- 0.54\n",
      "Eval num_timesteps=210000, episode_reward=0.70 +/- 0.69\n",
      "Episode length: 30.13 +/- 0.52\n",
      "Eval num_timesteps=220000, episode_reward=0.69 +/- 0.71\n",
      "Episode length: 30.11 +/- 0.51\n",
      "Eval num_timesteps=230000, episode_reward=0.71 +/- 0.70\n",
      "Episode length: 30.07 +/- 1.08\n",
      "Eval num_timesteps=240000, episode_reward=0.81 +/- 0.57\n",
      "Episode length: 30.07 +/- 0.57\n",
      "New best mean reward!\n",
      "Eval num_timesteps=250000, episode_reward=0.72 +/- 0.68\n",
      "Episode length: 30.05 +/- 1.17\n",
      "Eval num_timesteps=260000, episode_reward=0.76 +/- 0.63\n",
      "Episode length: 30.03 +/- 1.16\n",
      "Eval num_timesteps=270000, episode_reward=0.77 +/- 0.61\n",
      "Episode length: 30.09 +/- 0.57\n",
      "Eval num_timesteps=280000, episode_reward=0.72 +/- 0.68\n",
      "Episode length: 30.08 +/- 1.05\n",
      "Eval num_timesteps=290000, episode_reward=0.77 +/- 0.61\n",
      "Episode length: 30.02 +/- 1.20\n",
      "Eval num_timesteps=300000, episode_reward=0.73 +/- 0.66\n",
      "Episode length: 30.06 +/- 0.52\n",
      "Eval num_timesteps=310000, episode_reward=0.81 +/- 0.58\n",
      "Episode length: 30.14 +/- 0.55\n",
      "Eval num_timesteps=320000, episode_reward=0.79 +/- 0.59\n",
      "Episode length: 30.10 +/- 0.56\n",
      "Eval num_timesteps=330000, episode_reward=0.76 +/- 0.63\n",
      "Episode length: 30.09 +/- 0.57\n",
      "Eval num_timesteps=340000, episode_reward=0.81 +/- 0.57\n",
      "Episode length: 30.12 +/- 0.61\n",
      "Eval num_timesteps=350000, episode_reward=0.76 +/- 0.62\n",
      "Episode length: 30.08 +/- 0.99\n",
      "Eval num_timesteps=360000, episode_reward=0.80 +/- 0.59\n",
      "Episode length: 30.08 +/- 0.52\n",
      "Eval num_timesteps=370000, episode_reward=0.81 +/- 0.57\n",
      "Episode length: 30.09 +/- 0.87\n",
      "New best mean reward!\n",
      "Eval num_timesteps=380000, episode_reward=0.83 +/- 0.54\n",
      "Episode length: 30.13 +/- 0.52\n",
      "New best mean reward!\n",
      "Eval num_timesteps=390000, episode_reward=0.84 +/- 0.53\n",
      "Episode length: 30.16 +/- 0.60\n",
      "New best mean reward!\n",
      "Eval num_timesteps=400000, episode_reward=0.80 +/- 0.59\n",
      "Episode length: 30.15 +/- 0.57\n",
      "Eval num_timesteps=410000, episode_reward=0.82 +/- 0.55\n",
      "Episode length: 30.11 +/- 1.13\n",
      "Eval num_timesteps=420000, episode_reward=0.86 +/- 0.50\n",
      "Episode length: 30.13 +/- 0.52\n",
      "New best mean reward!\n",
      "Eval num_timesteps=430000, episode_reward=0.80 +/- 0.59\n",
      "Episode length: 30.09 +/- 0.57\n",
      "Eval num_timesteps=440000, episode_reward=0.83 +/- 0.55\n",
      "Episode length: 30.07 +/- 0.99\n",
      "Eval num_timesteps=450000, episode_reward=0.82 +/- 0.56\n",
      "Episode length: 30.12 +/- 0.56\n",
      "Eval num_timesteps=460000, episode_reward=0.82 +/- 0.56\n",
      "Episode length: 30.09 +/- 0.90\n",
      "Eval num_timesteps=470000, episode_reward=0.84 +/- 0.52\n",
      "Episode length: 30.09 +/- 0.53\n",
      "Eval num_timesteps=480000, episode_reward=0.85 +/- 0.52\n",
      "Episode length: 30.10 +/- 0.57\n",
      "Eval num_timesteps=490000, episode_reward=0.78 +/- 0.60\n",
      "Episode length: 30.12 +/- 0.53\n",
      "Eval num_timesteps=500000, episode_reward=0.83 +/- 0.54\n",
      "Episode length: 30.08 +/- 0.88\n",
      "Eval num_timesteps=510000, episode_reward=0.82 +/- 0.57\n",
      "Episode length: 30.09 +/- 1.07\n",
      "Eval num_timesteps=520000, episode_reward=0.86 +/- 0.49\n",
      "Episode length: 30.12 +/- 0.55\n",
      "New best mean reward!\n",
      "Eval num_timesteps=530000, episode_reward=0.89 +/- 0.45\n",
      "Episode length: 30.15 +/- 0.53\n",
      "New best mean reward!\n",
      "Eval num_timesteps=540000, episode_reward=0.84 +/- 0.53\n",
      "Episode length: 30.05 +/- 0.56\n",
      "Eval num_timesteps=550000, episode_reward=0.85 +/- 0.52\n",
      "Episode length: 30.11 +/- 0.59\n",
      "Eval num_timesteps=560000, episode_reward=0.81 +/- 0.57\n",
      "Episode length: 30.05 +/- 1.54\n",
      "Eval num_timesteps=570000, episode_reward=0.85 +/- 0.52\n",
      "Episode length: 30.11 +/- 0.55\n",
      "Eval num_timesteps=580000, episode_reward=0.85 +/- 0.51\n",
      "Episode length: 30.07 +/- 0.93\n",
      "Eval num_timesteps=590000, episode_reward=0.82 +/- 0.56\n",
      "Episode length: 30.08 +/- 0.56\n",
      "Eval num_timesteps=600000, episode_reward=0.84 +/- 0.53\n",
      "Episode length: 30.14 +/- 0.53\n",
      "Eval num_timesteps=610000, episode_reward=0.85 +/- 0.51\n",
      "Episode length: 29.99 +/- 1.63\n",
      "Eval num_timesteps=620000, episode_reward=0.89 +/- 0.43\n",
      "Episode length: 30.11 +/- 1.17\n",
      "New best mean reward!\n",
      "Eval num_timesteps=630000, episode_reward=0.86 +/- 0.49\n",
      "Episode length: 30.12 +/- 0.48\n",
      "Eval num_timesteps=640000, episode_reward=0.86 +/- 0.49\n",
      "Episode length: 30.12 +/- 0.59\n",
      "Eval num_timesteps=650000, episode_reward=0.88 +/- 0.46\n",
      "Episode length: 30.12 +/- 0.58\n",
      "Eval num_timesteps=660000, episode_reward=0.85 +/- 0.52\n",
      "Episode length: 30.14 +/- 0.57\n",
      "Eval num_timesteps=670000, episode_reward=0.88 +/- 0.46\n",
      "Episode length: 30.13 +/- 0.55\n",
      "Eval num_timesteps=680000, episode_reward=0.86 +/- 0.50\n",
      "Episode length: 30.11 +/- 0.95\n",
      "Eval num_timesteps=690000, episode_reward=0.87 +/- 0.48\n",
      "Episode length: 30.10 +/- 0.55\n",
      "Eval num_timesteps=700000, episode_reward=0.91 +/- 0.41\n",
      "Episode length: 30.15 +/- 0.56\n",
      "New best mean reward!\n",
      "Eval num_timesteps=710000, episode_reward=0.84 +/- 0.52\n",
      "Episode length: 30.14 +/- 0.58\n",
      "Eval num_timesteps=720000, episode_reward=0.86 +/- 0.49\n",
      "Episode length: 30.12 +/- 0.61\n",
      "Eval num_timesteps=730000, episode_reward=0.86 +/- 0.49\n",
      "Episode length: 30.13 +/- 0.61\n",
      "Eval num_timesteps=740000, episode_reward=0.89 +/- 0.44\n",
      "Episode length: 30.10 +/- 1.14\n",
      "Eval num_timesteps=750000, episode_reward=0.88 +/- 0.45\n",
      "Episode length: 30.13 +/- 0.57\n",
      "Eval num_timesteps=760000, episode_reward=0.86 +/- 0.49\n",
      "Episode length: 30.10 +/- 0.95\n",
      "Eval num_timesteps=770000, episode_reward=0.90 +/- 0.42\n",
      "Episode length: 30.11 +/- 0.56\n",
      "Eval num_timesteps=780000, episode_reward=0.83 +/- 0.54\n",
      "Episode length: 30.14 +/- 0.55\n",
      "Eval num_timesteps=790000, episode_reward=0.89 +/- 0.43\n",
      "Episode length: 30.10 +/- 0.56\n",
      "Eval num_timesteps=800000, episode_reward=0.84 +/- 0.52\n",
      "Episode length: 30.08 +/- 0.53\n",
      "Eval num_timesteps=810000, episode_reward=0.92 +/- 0.39\n",
      "Episode length: 30.07 +/- 1.49\n",
      "New best mean reward!\n",
      "Eval num_timesteps=820000, episode_reward=0.87 +/- 0.47\n",
      "Episode length: 30.06 +/- 1.25\n",
      "Eval num_timesteps=830000, episode_reward=0.89 +/- 0.43\n",
      "Episode length: 30.15 +/- 0.57\n",
      "Eval num_timesteps=840000, episode_reward=0.88 +/- 0.47\n",
      "Episode length: 30.10 +/- 1.14\n",
      "Eval num_timesteps=850000, episode_reward=0.89 +/- 0.43\n",
      "Episode length: 30.12 +/- 0.58\n",
      "Eval num_timesteps=860000, episode_reward=0.90 +/- 0.42\n",
      "Episode length: 30.13 +/- 1.14\n",
      "Eval num_timesteps=870000, episode_reward=0.88 +/- 0.45\n",
      "Episode length: 30.11 +/- 1.20\n",
      "Eval num_timesteps=880000, episode_reward=0.90 +/- 0.41\n",
      "Episode length: 30.06 +/- 1.63\n",
      "Eval num_timesteps=890000, episode_reward=0.89 +/- 0.44\n",
      "Episode length: 30.13 +/- 0.60\n",
      "Eval num_timesteps=900000, episode_reward=0.90 +/- 0.42\n",
      "Episode length: 30.13 +/- 0.58\n",
      "Eval num_timesteps=910000, episode_reward=0.83 +/- 0.55\n",
      "Episode length: 30.04 +/- 1.43\n",
      "Eval num_timesteps=920000, episode_reward=0.90 +/- 0.43\n",
      "Episode length: 30.14 +/- 0.55\n",
      "Eval num_timesteps=930000, episode_reward=0.88 +/- 0.47\n",
      "Episode length: 30.16 +/- 0.56\n",
      "Eval num_timesteps=940000, episode_reward=0.88 +/- 0.46\n",
      "Episode length: 30.10 +/- 0.58\n",
      "Eval num_timesteps=950000, episode_reward=0.87 +/- 0.47\n",
      "Episode length: 30.10 +/- 0.56\n",
      "Eval num_timesteps=960000, episode_reward=0.85 +/- 0.51\n",
      "Episode length: 30.12 +/- 0.65\n",
      "Eval num_timesteps=970000, episode_reward=0.89 +/- 0.44\n",
      "Episode length: 30.09 +/- 1.37\n",
      "Eval num_timesteps=980000, episode_reward=0.88 +/- 0.46\n",
      "Episode length: 30.15 +/- 0.59\n",
      "Eval num_timesteps=990000, episode_reward=0.89 +/- 0.43\n",
      "Episode length: 30.07 +/- 1.39\n",
      "Eval num_timesteps=1000000, episode_reward=0.81 +/- 0.58\n",
      "Episode length: 30.09 +/- 0.55\n",
      "Eval num_timesteps=1010000, episode_reward=0.87 +/- 0.48\n",
      "Episode length: 30.14 +/- 0.55\n",
      "Eval num_timesteps=1020000, episode_reward=0.87 +/- 0.48\n",
      "Episode length: 30.12 +/- 0.57\n",
      "Eval num_timesteps=1030000, episode_reward=0.88 +/- 0.45\n",
      "Episode length: 30.07 +/- 1.17\n",
      "Eval num_timesteps=1040000, episode_reward=0.87 +/- 0.48\n",
      "Episode length: 30.05 +/- 1.15\n",
      "Eval num_timesteps=1050000, episode_reward=0.90 +/- 0.41\n",
      "Episode length: 30.11 +/- 0.56\n",
      "Eval num_timesteps=1060000, episode_reward=0.89 +/- 0.44\n",
      "Episode length: 30.12 +/- 0.60\n",
      "Eval num_timesteps=1070000, episode_reward=0.89 +/- 0.44\n",
      "Episode length: 30.11 +/- 1.08\n",
      "Eval num_timesteps=1080000, episode_reward=0.86 +/- 0.50\n",
      "Episode length: 30.18 +/- 0.58\n",
      "Eval num_timesteps=1090000, episode_reward=0.88 +/- 0.46\n",
      "Episode length: 30.09 +/- 1.15\n",
      "Eval num_timesteps=1100000, episode_reward=0.90 +/- 0.43\n",
      "Episode length: 30.00 +/- 1.56\n",
      "Eval num_timesteps=1110000, episode_reward=0.85 +/- 0.51\n",
      "Episode length: 30.10 +/- 0.56\n",
      "Eval num_timesteps=1120000, episode_reward=0.90 +/- 0.44\n",
      "Episode length: 30.08 +/- 0.54\n"
     ]
    }
   ],
   "metadata": {}
  },
  {
   "cell_type": "code",
   "execution_count": null,
   "source": [],
   "outputs": [],
   "metadata": {}
  }
 ],
 "metadata": {
  "kernelspec": {
   "name": "python3",
   "display_name": "Python 3.8.10 64-bit ('myenv': conda)"
  },
  "language_info": {
   "codemirror_mode": {
    "name": "ipython",
    "version": 3
   },
   "file_extension": ".py",
   "mimetype": "text/x-python",
   "name": "python",
   "nbconvert_exporter": "python",
   "pygments_lexer": "ipython3",
   "version": "3.8.10"
  },
  "interpreter": {
   "hash": "3f5c773b913e5a08a20168ef5946a779e1782a0a9eb9fde0852783f88fe2b644"
  }
 },
 "nbformat": 4,
 "nbformat_minor": 5
}